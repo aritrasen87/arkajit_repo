{
 "cells": [
  {
   "cell_type": "code",
   "execution_count": 1,
   "metadata": {
    "collapsed": true
   },
   "outputs": [],
   "source": [
    "import pandas as pd \n",
    "import numpy as np\n",
    "import glob\n",
    "import matplotlib.pyplot as plt"
   ]
  },
  {
   "cell_type": "code",
   "execution_count": 2,
   "metadata": {
    "collapsed": true
   },
   "outputs": [],
   "source": [
    "path =r'C:\\Users\\623737\\Machine_Learning\\IPL\\Most_Runs_KKR' # use your path\n",
    "allFiles = glob.glob(path + \"/*.csv\")\n",
    "df_ms_runs = pd.DataFrame()\n",
    "list_ = []\n",
    "for file_ in allFiles:\n",
    "    df = pd.read_csv(file_,index_col=0)\n",
    "    team = (file_.rsplit('.csv', 1)[0]).rsplit('_', 1)[1]\n",
    "    year = (file_.rsplit('.csv', 1)[0]).rsplit('_', 2)[1]\n",
    "    df['team'] = team\n",
    "    df['year'] = year\n",
    "    list_.append(df)\n",
    "df_ms_runs = pd.concat(list_)\n"
   ]
  },
  {
   "cell_type": "code",
   "execution_count": 3,
   "metadata": {},
   "outputs": [
    {
     "data": {
      "text/html": [
       "<div>\n",
       "<style>\n",
       "    .dataframe thead tr:only-child th {\n",
       "        text-align: right;\n",
       "    }\n",
       "\n",
       "    .dataframe thead th {\n",
       "        text-align: left;\n",
       "    }\n",
       "\n",
       "    .dataframe tbody tr th {\n",
       "        vertical-align: top;\n",
       "    }\n",
       "</style>\n",
       "<table border=\"1\" class=\"dataframe\">\n",
       "  <thead>\n",
       "    <tr style=\"text-align: right;\">\n",
       "      <th></th>\n",
       "      <th>Player</th>\n",
       "      <th>Mat</th>\n",
       "      <th>Inns</th>\n",
       "      <th>NO</th>\n",
       "      <th>Runs</th>\n",
       "      <th>HS</th>\n",
       "      <th>Ave</th>\n",
       "      <th>BF</th>\n",
       "      <th>SR</th>\n",
       "      <th>100</th>\n",
       "      <th>50</th>\n",
       "      <th>0</th>\n",
       "      <th>4s</th>\n",
       "      <th>6s</th>\n",
       "      <th>team</th>\n",
       "      <th>year</th>\n",
       "    </tr>\n",
       "  </thead>\n",
       "  <tbody>\n",
       "    <tr>\n",
       "      <th>0.0</th>\n",
       "      <td>SC Ganguly</td>\n",
       "      <td>13.0</td>\n",
       "      <td>13.0</td>\n",
       "      <td>1.0</td>\n",
       "      <td>349.0</td>\n",
       "      <td>91</td>\n",
       "      <td>29.08</td>\n",
       "      <td>307.0</td>\n",
       "      <td>113.68</td>\n",
       "      <td>0.0</td>\n",
       "      <td>3.0</td>\n",
       "      <td>0.0</td>\n",
       "      <td>33.0</td>\n",
       "      <td>15.0</td>\n",
       "      <td>KKR</td>\n",
       "      <td>2008</td>\n",
       "    </tr>\n",
       "    <tr>\n",
       "      <th>1.0</th>\n",
       "      <td>DJ Hussey</td>\n",
       "      <td>13.0</td>\n",
       "      <td>13.0</td>\n",
       "      <td>2.0</td>\n",
       "      <td>319.0</td>\n",
       "      <td>71</td>\n",
       "      <td>29</td>\n",
       "      <td>259.0</td>\n",
       "      <td>123.16</td>\n",
       "      <td>0.0</td>\n",
       "      <td>2.0</td>\n",
       "      <td>2.0</td>\n",
       "      <td>19.0</td>\n",
       "      <td>17.0</td>\n",
       "      <td>KKR</td>\n",
       "      <td>2008</td>\n",
       "    </tr>\n",
       "  </tbody>\n",
       "</table>\n",
       "</div>"
      ],
      "text/plain": [
       "         Player   Mat  Inns   NO   Runs  HS    Ave     BF      SR  100   50  \\\n",
       "0.0  SC Ganguly  13.0  13.0  1.0  349.0  91  29.08  307.0  113.68  0.0  3.0   \n",
       "1.0   DJ Hussey  13.0  13.0  2.0  319.0  71     29  259.0  123.16  0.0  2.0   \n",
       "\n",
       "       0    4s    6s team  year  \n",
       "0.0  0.0  33.0  15.0  KKR  2008  \n",
       "1.0  2.0  19.0  17.0  KKR  2008  "
      ]
     },
     "execution_count": 3,
     "metadata": {},
     "output_type": "execute_result"
    }
   ],
   "source": [
    "df_ms_runs.head(2)"
   ]
  },
  {
   "cell_type": "code",
   "execution_count": 4,
   "metadata": {},
   "outputs": [
    {
     "data": {
      "text/plain": [
       "Player    4\n",
       "Mat       8\n",
       "Inns      8\n",
       "NO        8\n",
       "Runs      8\n",
       "HS        8\n",
       "Ave       8\n",
       "BF        8\n",
       "SR        8\n",
       "100       8\n",
       "50        8\n",
       "0         8\n",
       "4s        8\n",
       "6s        8\n",
       "team      0\n",
       "year      0\n",
       "dtype: int64"
      ]
     },
     "execution_count": 4,
     "metadata": {},
     "output_type": "execute_result"
    }
   ],
   "source": [
    "df_ms_runs.isnull().sum()\n"
   ]
  },
  {
   "cell_type": "code",
   "execution_count": 5,
   "metadata": {},
   "outputs": [
    {
     "data": {
      "text/html": [
       "<div>\n",
       "<style>\n",
       "    .dataframe thead tr:only-child th {\n",
       "        text-align: right;\n",
       "    }\n",
       "\n",
       "    .dataframe thead th {\n",
       "        text-align: left;\n",
       "    }\n",
       "\n",
       "    .dataframe tbody tr th {\n",
       "        vertical-align: top;\n",
       "    }\n",
       "</style>\n",
       "<table border=\"1\" class=\"dataframe\">\n",
       "  <thead>\n",
       "    <tr style=\"text-align: right;\">\n",
       "      <th></th>\n",
       "      <th>Player</th>\n",
       "      <th>Mat</th>\n",
       "      <th>Inns</th>\n",
       "      <th>NO</th>\n",
       "      <th>Runs</th>\n",
       "      <th>HS</th>\n",
       "      <th>Ave</th>\n",
       "      <th>BF</th>\n",
       "      <th>SR</th>\n",
       "      <th>100</th>\n",
       "      <th>50</th>\n",
       "      <th>0</th>\n",
       "      <th>4s</th>\n",
       "      <th>6s</th>\n",
       "      <th>team</th>\n",
       "      <th>year</th>\n",
       "    </tr>\n",
       "  </thead>\n",
       "  <tbody>\n",
       "    <tr>\n",
       "      <th>NaN</th>\n",
       "      <td>NaN</td>\n",
       "      <td>NaN</td>\n",
       "      <td>NaN</td>\n",
       "      <td>NaN</td>\n",
       "      <td>NaN</td>\n",
       "      <td>NaN</td>\n",
       "      <td>NaN</td>\n",
       "      <td>NaN</td>\n",
       "      <td>NaN</td>\n",
       "      <td>NaN</td>\n",
       "      <td>NaN</td>\n",
       "      <td>NaN</td>\n",
       "      <td>NaN</td>\n",
       "      <td>NaN</td>\n",
       "      <td>KKR</td>\n",
       "      <td>2010</td>\n",
       "    </tr>\n",
       "    <tr>\n",
       "      <th>NaN</th>\n",
       "      <td>NaN</td>\n",
       "      <td>NaN</td>\n",
       "      <td>NaN</td>\n",
       "      <td>NaN</td>\n",
       "      <td>NaN</td>\n",
       "      <td>NaN</td>\n",
       "      <td>NaN</td>\n",
       "      <td>NaN</td>\n",
       "      <td>NaN</td>\n",
       "      <td>NaN</td>\n",
       "      <td>NaN</td>\n",
       "      <td>NaN</td>\n",
       "      <td>NaN</td>\n",
       "      <td>NaN</td>\n",
       "      <td>KKR</td>\n",
       "      <td>2010</td>\n",
       "    </tr>\n",
       "    <tr>\n",
       "      <th>NaN</th>\n",
       "      <td>NaN</td>\n",
       "      <td>NaN</td>\n",
       "      <td>NaN</td>\n",
       "      <td>NaN</td>\n",
       "      <td>NaN</td>\n",
       "      <td>NaN</td>\n",
       "      <td>NaN</td>\n",
       "      <td>NaN</td>\n",
       "      <td>NaN</td>\n",
       "      <td>NaN</td>\n",
       "      <td>NaN</td>\n",
       "      <td>NaN</td>\n",
       "      <td>NaN</td>\n",
       "      <td>NaN</td>\n",
       "      <td>KKR</td>\n",
       "      <td>2010</td>\n",
       "    </tr>\n",
       "    <tr>\n",
       "      <th>NaN</th>\n",
       "      <td>NaN</td>\n",
       "      <td>NaN</td>\n",
       "      <td>NaN</td>\n",
       "      <td>NaN</td>\n",
       "      <td>NaN</td>\n",
       "      <td>NaN</td>\n",
       "      <td>NaN</td>\n",
       "      <td>NaN</td>\n",
       "      <td>NaN</td>\n",
       "      <td>NaN</td>\n",
       "      <td>NaN</td>\n",
       "      <td>NaN</td>\n",
       "      <td>NaN</td>\n",
       "      <td>NaN</td>\n",
       "      <td>KKR</td>\n",
       "      <td>2010</td>\n",
       "    </tr>\n",
       "  </tbody>\n",
       "</table>\n",
       "</div>"
      ],
      "text/plain": [
       "    Player  Mat  Inns  NO  Runs   HS  Ave  BF   SR  100  50   0  4s  6s team  \\\n",
       "NaN    NaN  NaN   NaN NaN   NaN  NaN  NaN NaN  NaN  NaN NaN NaN NaN NaN  KKR   \n",
       "NaN    NaN  NaN   NaN NaN   NaN  NaN  NaN NaN  NaN  NaN NaN NaN NaN NaN  KKR   \n",
       "NaN    NaN  NaN   NaN NaN   NaN  NaN  NaN NaN  NaN  NaN NaN NaN NaN NaN  KKR   \n",
       "NaN    NaN  NaN   NaN NaN   NaN  NaN  NaN NaN  NaN  NaN NaN NaN NaN NaN  KKR   \n",
       "\n",
       "     year  \n",
       "NaN  2010  \n",
       "NaN  2010  \n",
       "NaN  2010  \n",
       "NaN  2010  "
      ]
     },
     "execution_count": 5,
     "metadata": {},
     "output_type": "execute_result"
    }
   ],
   "source": [
    "df_ms_runs[df_ms_runs.Player.isnull()] "
   ]
  },
  {
   "cell_type": "code",
   "execution_count": 6,
   "metadata": {
    "collapsed": true
   },
   "outputs": [],
   "source": [
    "df_ms_runs.dropna(axis = 0,inplace = True)"
   ]
  },
  {
   "cell_type": "code",
   "execution_count": 7,
   "metadata": {
    "collapsed": true
   },
   "outputs": [],
   "source": [
    "cols =['Mat','Inns','NO','Runs','100','50','0','4s','6s','BF']\n",
    "df_ms_runs[cols] = df_ms_runs[cols].astype(int)"
   ]
  },
  {
   "cell_type": "code",
   "execution_count": 8,
   "metadata": {
    "collapsed": true
   },
   "outputs": [],
   "source": [
    "df_ms_runs = df_ms_runs.reset_index(drop=True)"
   ]
  },
  {
   "cell_type": "code",
   "execution_count": 9,
   "metadata": {},
   "outputs": [
    {
     "data": {
      "text/html": [
       "<div>\n",
       "<style>\n",
       "    .dataframe thead tr:only-child th {\n",
       "        text-align: right;\n",
       "    }\n",
       "\n",
       "    .dataframe thead th {\n",
       "        text-align: left;\n",
       "    }\n",
       "\n",
       "    .dataframe tbody tr th {\n",
       "        vertical-align: top;\n",
       "    }\n",
       "</style>\n",
       "<table border=\"1\" class=\"dataframe\">\n",
       "  <thead>\n",
       "    <tr style=\"text-align: right;\">\n",
       "      <th></th>\n",
       "      <th>Ave</th>\n",
       "      <th>Player</th>\n",
       "      <th>HS</th>\n",
       "    </tr>\n",
       "  </thead>\n",
       "  <tbody>\n",
       "    <tr>\n",
       "      <th>18</th>\n",
       "      <td>-</td>\n",
       "      <td>Iqbal Abdulla</td>\n",
       "      <td>1*</td>\n",
       "    </tr>\n",
       "    <tr>\n",
       "      <th>30</th>\n",
       "      <td>-</td>\n",
       "      <td>M Kartik</td>\n",
       "      <td>11*</td>\n",
       "    </tr>\n",
       "    <tr>\n",
       "      <th>37</th>\n",
       "      <td>-</td>\n",
       "      <td>Mashrafe Mortaza</td>\n",
       "      <td>2*</td>\n",
       "    </tr>\n",
       "    <tr>\n",
       "      <th>57</th>\n",
       "      <td>-</td>\n",
       "      <td>BAW Mendis</td>\n",
       "      <td>1*</td>\n",
       "    </tr>\n",
       "    <tr>\n",
       "      <th>59</th>\n",
       "      <td>-</td>\n",
       "      <td>Iqbal Abdulla</td>\n",
       "      <td>0*</td>\n",
       "    </tr>\n",
       "    <tr>\n",
       "      <th>72</th>\n",
       "      <td>-</td>\n",
       "      <td>Iqbal Abdulla</td>\n",
       "      <td>12*</td>\n",
       "    </tr>\n",
       "    <tr>\n",
       "      <th>76</th>\n",
       "      <td>-</td>\n",
       "      <td>L Balaji</td>\n",
       "      <td>3*</td>\n",
       "    </tr>\n",
       "    <tr>\n",
       "      <th>90</th>\n",
       "      <td>-</td>\n",
       "      <td>Iqbal Abdulla</td>\n",
       "      <td>1*</td>\n",
       "    </tr>\n",
       "    <tr>\n",
       "      <th>105</th>\n",
       "      <td>-</td>\n",
       "      <td>Iqbal Abdulla</td>\n",
       "      <td>6*</td>\n",
       "    </tr>\n",
       "    <tr>\n",
       "      <th>109</th>\n",
       "      <td>-</td>\n",
       "      <td>PJ Sangwan</td>\n",
       "      <td>4*</td>\n",
       "    </tr>\n",
       "    <tr>\n",
       "      <th>123</th>\n",
       "      <td>-</td>\n",
       "      <td>M Morkel</td>\n",
       "      <td>4*</td>\n",
       "    </tr>\n",
       "    <tr>\n",
       "      <th>141</th>\n",
       "      <td>-</td>\n",
       "      <td>M Morkel</td>\n",
       "      <td>4*</td>\n",
       "    </tr>\n",
       "    <tr>\n",
       "      <th>143</th>\n",
       "      <td>-</td>\n",
       "      <td>SP Narine</td>\n",
       "      <td>0*</td>\n",
       "    </tr>\n",
       "    <tr>\n",
       "      <th>158</th>\n",
       "      <td>-</td>\n",
       "      <td>M Morkel</td>\n",
       "      <td>1*</td>\n",
       "    </tr>\n",
       "    <tr>\n",
       "      <th>159</th>\n",
       "      <td>-</td>\n",
       "      <td>GB Hogg</td>\n",
       "      <td>0*</td>\n",
       "    </tr>\n",
       "    <tr>\n",
       "      <th>173</th>\n",
       "      <td>-</td>\n",
       "      <td>UT Yadav</td>\n",
       "      <td>4*</td>\n",
       "    </tr>\n",
       "    <tr>\n",
       "      <th>174</th>\n",
       "      <td>-</td>\n",
       "      <td>DM Bravo</td>\n",
       "      <td>6*</td>\n",
       "    </tr>\n",
       "    <tr>\n",
       "      <th>175</th>\n",
       "      <td>-</td>\n",
       "      <td>TA Boult</td>\n",
       "      <td>5*</td>\n",
       "    </tr>\n",
       "    <tr>\n",
       "      <th>178</th>\n",
       "      <td>-</td>\n",
       "      <td>Shakib Al Hasan</td>\n",
       "      <td>1*</td>\n",
       "    </tr>\n",
       "  </tbody>\n",
       "</table>\n",
       "</div>"
      ],
      "text/plain": [
       "    Ave            Player   HS\n",
       "18    -     Iqbal Abdulla   1*\n",
       "30    -          M Kartik  11*\n",
       "37    -  Mashrafe Mortaza   2*\n",
       "57    -        BAW Mendis   1*\n",
       "59    -     Iqbal Abdulla   0*\n",
       "72    -     Iqbal Abdulla  12*\n",
       "76    -          L Balaji   3*\n",
       "90    -     Iqbal Abdulla   1*\n",
       "105   -     Iqbal Abdulla   6*\n",
       "109   -        PJ Sangwan   4*\n",
       "123   -          M Morkel   4*\n",
       "141   -          M Morkel   4*\n",
       "143   -         SP Narine   0*\n",
       "158   -          M Morkel   1*\n",
       "159   -           GB Hogg   0*\n",
       "173   -          UT Yadav   4*\n",
       "174   -          DM Bravo   6*\n",
       "175   -          TA Boult   5*\n",
       "178   -   Shakib Al Hasan   1*"
      ]
     },
     "execution_count": 9,
     "metadata": {},
     "output_type": "execute_result"
    }
   ],
   "source": [
    "df_ms_runs[['Ave','Player','HS']][df_ms_runs['Ave']=='-']"
   ]
  },
  {
   "cell_type": "code",
   "execution_count": 10,
   "metadata": {},
   "outputs": [
    {
     "name": "stderr",
     "output_type": "stream",
     "text": [
      "C:\\ProgramData\\Anaconda3\\lib\\site-packages\\ipykernel_launcher.py:2: SettingWithCopyWarning: \n",
      "A value is trying to be set on a copy of a slice from a DataFrame\n",
      "\n",
      "See the caveats in the documentation: http://pandas.pydata.org/pandas-docs/stable/indexing.html#indexing-view-versus-copy\n",
      "  \n"
     ]
    }
   ],
   "source": [
    "#replacing Ave = - with Higest Score of that player\n",
    "df_ms_runs['Ave'][df_ms_runs['Ave']=='-'] = df_ms_runs['HS'][df_ms_runs['Ave']=='-'].str.rsplit('*', 1).str[0]"
   ]
  },
  {
   "cell_type": "code",
   "execution_count": 11,
   "metadata": {},
   "outputs": [
    {
     "data": {
      "text/html": [
       "<div>\n",
       "<style>\n",
       "    .dataframe thead tr:only-child th {\n",
       "        text-align: right;\n",
       "    }\n",
       "\n",
       "    .dataframe thead th {\n",
       "        text-align: left;\n",
       "    }\n",
       "\n",
       "    .dataframe tbody tr th {\n",
       "        vertical-align: top;\n",
       "    }\n",
       "</style>\n",
       "<table border=\"1\" class=\"dataframe\">\n",
       "  <thead>\n",
       "    <tr style=\"text-align: right;\">\n",
       "      <th></th>\n",
       "      <th>Ave</th>\n",
       "      <th>Player</th>\n",
       "    </tr>\n",
       "  </thead>\n",
       "  <tbody>\n",
       "  </tbody>\n",
       "</table>\n",
       "</div>"
      ],
      "text/plain": [
       "Empty DataFrame\n",
       "Columns: [Ave, Player]\n",
       "Index: []"
      ]
     },
     "execution_count": 11,
     "metadata": {},
     "output_type": "execute_result"
    }
   ],
   "source": [
    "df_ms_runs[['Ave','Player']][df_ms_runs['Ave']=='-']"
   ]
  },
  {
   "cell_type": "code",
   "execution_count": 12,
   "metadata": {},
   "outputs": [
    {
     "data": {
      "text/html": [
       "<div>\n",
       "<style>\n",
       "    .dataframe thead tr:only-child th {\n",
       "        text-align: right;\n",
       "    }\n",
       "\n",
       "    .dataframe thead th {\n",
       "        text-align: left;\n",
       "    }\n",
       "\n",
       "    .dataframe tbody tr th {\n",
       "        vertical-align: top;\n",
       "    }\n",
       "</style>\n",
       "<table border=\"1\" class=\"dataframe\">\n",
       "  <thead>\n",
       "    <tr style=\"text-align: right;\">\n",
       "      <th></th>\n",
       "      <th>Ave</th>\n",
       "      <th>Player</th>\n",
       "      <th>SR</th>\n",
       "    </tr>\n",
       "  </thead>\n",
       "  <tbody>\n",
       "    <tr>\n",
       "      <th>159</th>\n",
       "      <td>0</td>\n",
       "      <td>GB Hogg</td>\n",
       "      <td>-</td>\n",
       "    </tr>\n",
       "  </tbody>\n",
       "</table>\n",
       "</div>"
      ],
      "text/plain": [
       "    Ave   Player SR\n",
       "159   0  GB Hogg  -"
      ]
     },
     "execution_count": 12,
     "metadata": {},
     "output_type": "execute_result"
    }
   ],
   "source": [
    "#Records with SR = - \n",
    "df_ms_runs[['Ave','Player','SR']][df_ms_runs['SR']=='-']"
   ]
  },
  {
   "cell_type": "code",
   "execution_count": 13,
   "metadata": {},
   "outputs": [
    {
     "name": "stderr",
     "output_type": "stream",
     "text": [
      "C:\\ProgramData\\Anaconda3\\lib\\site-packages\\ipykernel_launcher.py:2: SettingWithCopyWarning: \n",
      "A value is trying to be set on a copy of a slice from a DataFrame\n",
      "\n",
      "See the caveats in the documentation: http://pandas.pydata.org/pandas-docs/stable/indexing.html#indexing-view-versus-copy\n",
      "  \n"
     ]
    },
    {
     "data": {
      "text/html": [
       "<div>\n",
       "<style>\n",
       "    .dataframe thead tr:only-child th {\n",
       "        text-align: right;\n",
       "    }\n",
       "\n",
       "    .dataframe thead th {\n",
       "        text-align: left;\n",
       "    }\n",
       "\n",
       "    .dataframe tbody tr th {\n",
       "        vertical-align: top;\n",
       "    }\n",
       "</style>\n",
       "<table border=\"1\" class=\"dataframe\">\n",
       "  <thead>\n",
       "    <tr style=\"text-align: right;\">\n",
       "      <th></th>\n",
       "      <th>Ave</th>\n",
       "      <th>Player</th>\n",
       "      <th>SR</th>\n",
       "    </tr>\n",
       "  </thead>\n",
       "  <tbody>\n",
       "  </tbody>\n",
       "</table>\n",
       "</div>"
      ],
      "text/plain": [
       "Empty DataFrame\n",
       "Columns: [Ave, Player, SR]\n",
       "Index: []"
      ]
     },
     "execution_count": 13,
     "metadata": {},
     "output_type": "execute_result"
    }
   ],
   "source": [
    "#replacing SR = - with zero\n",
    "df_ms_runs['SR'][df_ms_runs['SR']=='-'] = 0\n",
    "df_ms_runs[['Ave','Player','SR']][df_ms_runs['SR']=='-']"
   ]
  },
  {
   "cell_type": "code",
   "execution_count": 14,
   "metadata": {},
   "outputs": [
    {
     "data": {
      "text/plain": [
       "Player     object\n",
       "Mat         int32\n",
       "Inns        int32\n",
       "NO          int32\n",
       "Runs        int32\n",
       "HS         object\n",
       "Ave       float64\n",
       "BF          int32\n",
       "SR        float64\n",
       "100         int32\n",
       "50          int32\n",
       "0           int32\n",
       "4s          int32\n",
       "6s          int32\n",
       "team       object\n",
       "year       object\n",
       "dtype: object"
      ]
     },
     "execution_count": 14,
     "metadata": {},
     "output_type": "execute_result"
    }
   ],
   "source": [
    "flot_cols = ['Ave','SR']\n",
    "df_ms_runs[flot_cols] = df_ms_runs[flot_cols].apply(pd.to_numeric)\n",
    "df_ms_runs.dtypes"
   ]
  },
  {
   "cell_type": "markdown",
   "metadata": {},
   "source": [
    "# Best Strike rate of a player in a season with atleast 5 Inns "
   ]
  },
  {
   "cell_type": "code",
   "execution_count": 15,
   "metadata": {},
   "outputs": [
    {
     "data": {
      "text/html": [
       "<div>\n",
       "<style>\n",
       "    .dataframe thead tr:only-child th {\n",
       "        text-align: right;\n",
       "    }\n",
       "\n",
       "    .dataframe thead th {\n",
       "        text-align: left;\n",
       "    }\n",
       "\n",
       "    .dataframe tbody tr th {\n",
       "        vertical-align: top;\n",
       "    }\n",
       "</style>\n",
       "<table border=\"1\" class=\"dataframe\">\n",
       "  <thead>\n",
       "    <tr style=\"text-align: right;\">\n",
       "      <th></th>\n",
       "      <th>Player</th>\n",
       "      <th>Mat</th>\n",
       "      <th>Inns</th>\n",
       "      <th>NO</th>\n",
       "      <th>Runs</th>\n",
       "      <th>HS</th>\n",
       "      <th>Ave</th>\n",
       "      <th>BF</th>\n",
       "      <th>SR</th>\n",
       "      <th>100</th>\n",
       "      <th>50</th>\n",
       "      <th>0</th>\n",
       "      <th>4s</th>\n",
       "      <th>6s</th>\n",
       "      <th>team</th>\n",
       "      <th>year</th>\n",
       "    </tr>\n",
       "  </thead>\n",
       "  <tbody>\n",
       "    <tr>\n",
       "      <th>130</th>\n",
       "      <td>AD Russell</td>\n",
       "      <td>13</td>\n",
       "      <td>11</td>\n",
       "      <td>2</td>\n",
       "      <td>326</td>\n",
       "      <td>66</td>\n",
       "      <td>36.22</td>\n",
       "      <td>169</td>\n",
       "      <td>192.89</td>\n",
       "      <td>0</td>\n",
       "      <td>3</td>\n",
       "      <td>0</td>\n",
       "      <td>35</td>\n",
       "      <td>19</td>\n",
       "      <td>KKR</td>\n",
       "      <td>2015</td>\n",
       "    </tr>\n",
       "  </tbody>\n",
       "</table>\n",
       "</div>"
      ],
      "text/plain": [
       "         Player  Mat  Inns  NO  Runs  HS    Ave   BF      SR  100  50  0  4s  \\\n",
       "130  AD Russell   13    11   2   326  66  36.22  169  192.89    0   3  0  35   \n",
       "\n",
       "     6s team  year  \n",
       "130  19  KKR  2015  "
      ]
     },
     "execution_count": 15,
     "metadata": {},
     "output_type": "execute_result"
    }
   ],
   "source": [
    "df_ms_runs[df_ms_runs['SR']==max(df_ms_runs[(df_ms_runs['Inns'] > 5)].SR)]"
   ]
  },
  {
   "cell_type": "markdown",
   "metadata": {},
   "source": [
    "# Best Average of a player in a season with atleast 7 Inns "
   ]
  },
  {
   "cell_type": "code",
   "execution_count": 16,
   "metadata": {},
   "outputs": [
    {
     "data": {
      "text/html": [
       "<div>\n",
       "<style>\n",
       "    .dataframe thead tr:only-child th {\n",
       "        text-align: right;\n",
       "    }\n",
       "\n",
       "    .dataframe thead th {\n",
       "        text-align: left;\n",
       "    }\n",
       "\n",
       "    .dataframe tbody tr th {\n",
       "        vertical-align: top;\n",
       "    }\n",
       "</style>\n",
       "<table border=\"1\" class=\"dataframe\">\n",
       "  <thead>\n",
       "    <tr style=\"text-align: right;\">\n",
       "      <th></th>\n",
       "      <th>Player</th>\n",
       "      <th>Mat</th>\n",
       "      <th>Inns</th>\n",
       "      <th>NO</th>\n",
       "      <th>Runs</th>\n",
       "      <th>HS</th>\n",
       "      <th>Ave</th>\n",
       "      <th>BF</th>\n",
       "      <th>SR</th>\n",
       "      <th>100</th>\n",
       "      <th>50</th>\n",
       "      <th>0</th>\n",
       "      <th>4s</th>\n",
       "      <th>6s</th>\n",
       "      <th>team</th>\n",
       "      <th>year</th>\n",
       "    </tr>\n",
       "  </thead>\n",
       "  <tbody>\n",
       "    <tr>\n",
       "      <th>146</th>\n",
       "      <td>YK Pathan</td>\n",
       "      <td>15</td>\n",
       "      <td>13</td>\n",
       "      <td>8</td>\n",
       "      <td>361</td>\n",
       "      <td>63*</td>\n",
       "      <td>72.2</td>\n",
       "      <td>248</td>\n",
       "      <td>145.56</td>\n",
       "      <td>0</td>\n",
       "      <td>3</td>\n",
       "      <td>0</td>\n",
       "      <td>33</td>\n",
       "      <td>13</td>\n",
       "      <td>KKR</td>\n",
       "      <td>2016</td>\n",
       "    </tr>\n",
       "  </tbody>\n",
       "</table>\n",
       "</div>"
      ],
      "text/plain": [
       "        Player  Mat  Inns  NO  Runs   HS   Ave   BF      SR  100  50  0  4s  \\\n",
       "146  YK Pathan   15    13   8   361  63*  72.2  248  145.56    0   3  0  33   \n",
       "\n",
       "     6s team  year  \n",
       "146  13  KKR  2016  "
      ]
     },
     "execution_count": 16,
     "metadata": {},
     "output_type": "execute_result"
    }
   ],
   "source": [
    "df_ms_runs[(df_ms_runs['Ave']==max(df_ms_runs[(df_ms_runs['Inns'] > 7)].Ave))]"
   ]
  },
  {
   "cell_type": "markdown",
   "metadata": {},
   "source": [
    "# Top 10 Run scorers for KKR in all Season"
   ]
  },
  {
   "cell_type": "code",
   "execution_count": 17,
   "metadata": {},
   "outputs": [
    {
     "data": {
      "text/html": [
       "<div>\n",
       "<style>\n",
       "    .dataframe thead tr:only-child th {\n",
       "        text-align: right;\n",
       "    }\n",
       "\n",
       "    .dataframe thead th {\n",
       "        text-align: left;\n",
       "    }\n",
       "\n",
       "    .dataframe tbody tr th {\n",
       "        vertical-align: top;\n",
       "    }\n",
       "</style>\n",
       "<table border=\"1\" class=\"dataframe\">\n",
       "  <thead>\n",
       "    <tr style=\"text-align: right;\">\n",
       "      <th></th>\n",
       "      <th>Player</th>\n",
       "      <th>Runs</th>\n",
       "    </tr>\n",
       "  </thead>\n",
       "  <tbody>\n",
       "    <tr>\n",
       "      <th>24</th>\n",
       "      <td>G Gambhir</td>\n",
       "      <td>3035</td>\n",
       "    </tr>\n",
       "    <tr>\n",
       "      <th>79</th>\n",
       "      <td>YK Pathan</td>\n",
       "      <td>1893</td>\n",
       "    </tr>\n",
       "    <tr>\n",
       "      <th>60</th>\n",
       "      <td>RV Uthappa</td>\n",
       "      <td>1806</td>\n",
       "    </tr>\n",
       "    <tr>\n",
       "      <th>30</th>\n",
       "      <td>JH Kallis</td>\n",
       "      <td>1295</td>\n",
       "    </tr>\n",
       "    <tr>\n",
       "      <th>38</th>\n",
       "      <td>MK Pandey</td>\n",
       "      <td>1270</td>\n",
       "    </tr>\n",
       "    <tr>\n",
       "      <th>64</th>\n",
       "      <td>SC Ganguly</td>\n",
       "      <td>1031</td>\n",
       "    </tr>\n",
       "    <tr>\n",
       "      <th>39</th>\n",
       "      <td>MK Tiwary</td>\n",
       "      <td>1002</td>\n",
       "    </tr>\n",
       "    <tr>\n",
       "      <th>10</th>\n",
       "      <td>BB McCullum</td>\n",
       "      <td>882</td>\n",
       "    </tr>\n",
       "    <tr>\n",
       "      <th>62</th>\n",
       "      <td>SA Yadav</td>\n",
       "      <td>608</td>\n",
       "    </tr>\n",
       "    <tr>\n",
       "      <th>41</th>\n",
       "      <td>MS Bisla</td>\n",
       "      <td>543</td>\n",
       "    </tr>\n",
       "  </tbody>\n",
       "</table>\n",
       "</div>"
      ],
      "text/plain": [
       "         Player  Runs\n",
       "24    G Gambhir  3035\n",
       "79    YK Pathan  1893\n",
       "60   RV Uthappa  1806\n",
       "30    JH Kallis  1295\n",
       "38    MK Pandey  1270\n",
       "64   SC Ganguly  1031\n",
       "39    MK Tiwary  1002\n",
       "10  BB McCullum   882\n",
       "62     SA Yadav   608\n",
       "41     MS Bisla   543"
      ]
     },
     "execution_count": 17,
     "metadata": {},
     "output_type": "execute_result"
    }
   ],
   "source": [
    "runs_by_player = df_ms_runs.groupby('Player', as_index=False).agg({\"Runs\": \"sum\"})\n",
    "runs_by_player.sort_values(by = ['Runs'], ascending=[False]).head(10)"
   ]
  },
  {
   "cell_type": "markdown",
   "metadata": {},
   "source": [
    "# Runs scored by Players in each seasons"
   ]
  },
  {
   "cell_type": "code",
   "execution_count": 18,
   "metadata": {},
   "outputs": [
    {
     "data": {
      "text/html": [
       "<div>\n",
       "<style>\n",
       "    .dataframe thead tr:only-child th {\n",
       "        text-align: right;\n",
       "    }\n",
       "\n",
       "    .dataframe thead th {\n",
       "        text-align: left;\n",
       "    }\n",
       "\n",
       "    .dataframe tbody tr th {\n",
       "        vertical-align: top;\n",
       "    }\n",
       "</style>\n",
       "<table border=\"1\" class=\"dataframe\">\n",
       "  <thead>\n",
       "    <tr style=\"text-align: right;\">\n",
       "      <th></th>\n",
       "      <th>Player</th>\n",
       "      <th>year</th>\n",
       "      <th>Runs</th>\n",
       "    </tr>\n",
       "  </thead>\n",
       "  <tbody>\n",
       "    <tr>\n",
       "      <th>0</th>\n",
       "      <td>A Chopra</td>\n",
       "      <td>2008</td>\n",
       "      <td>42</td>\n",
       "    </tr>\n",
       "    <tr>\n",
       "      <th>1</th>\n",
       "      <td>A Chopra</td>\n",
       "      <td>2009</td>\n",
       "      <td>11</td>\n",
       "    </tr>\n",
       "    <tr>\n",
       "      <th>2</th>\n",
       "      <td>AB Agarkar</td>\n",
       "      <td>2008</td>\n",
       "      <td>54</td>\n",
       "    </tr>\n",
       "    <tr>\n",
       "      <th>3</th>\n",
       "      <td>AB Agarkar</td>\n",
       "      <td>2009</td>\n",
       "      <td>66</td>\n",
       "    </tr>\n",
       "    <tr>\n",
       "      <th>4</th>\n",
       "      <td>AB Agarkar</td>\n",
       "      <td>2010</td>\n",
       "      <td>40</td>\n",
       "    </tr>\n",
       "  </tbody>\n",
       "</table>\n",
       "</div>"
      ],
      "text/plain": [
       "       Player  year  Runs\n",
       "0    A Chopra  2008    42\n",
       "1    A Chopra  2009    11\n",
       "2  AB Agarkar  2008    54\n",
       "3  AB Agarkar  2009    66\n",
       "4  AB Agarkar  2010    40"
      ]
     },
     "execution_count": 18,
     "metadata": {},
     "output_type": "execute_result"
    }
   ],
   "source": [
    "runs_by_player_seasons = df_ms_runs.groupby(['Player','year'], as_index=False).agg({\"Runs\": \"sum\"})\n",
    "runs_by_player_seasons['Runs']=runs_by_player_seasons['Runs'].astype(int)\n",
    "runs_by_player_seasons.head(5)"
   ]
  },
  {
   "cell_type": "markdown",
   "metadata": {},
   "source": [
    "# Top 5 Run scorers for KKR in 2017 Season"
   ]
  },
  {
   "cell_type": "code",
   "execution_count": 19,
   "metadata": {},
   "outputs": [
    {
     "name": "stderr",
     "output_type": "stream",
     "text": [
      "C:\\ProgramData\\Anaconda3\\lib\\site-packages\\ipykernel_launcher.py:1: UserWarning: Boolean Series key will be reindexed to match DataFrame index.\n",
      "  \"\"\"Entry point for launching an IPython kernel.\n"
     ]
    },
    {
     "data": {
      "text/html": [
       "<div>\n",
       "<style>\n",
       "    .dataframe thead tr:only-child th {\n",
       "        text-align: right;\n",
       "    }\n",
       "\n",
       "    .dataframe thead th {\n",
       "        text-align: left;\n",
       "    }\n",
       "\n",
       "    .dataframe tbody tr th {\n",
       "        vertical-align: top;\n",
       "    }\n",
       "</style>\n",
       "<table border=\"1\" class=\"dataframe\">\n",
       "  <thead>\n",
       "    <tr style=\"text-align: right;\">\n",
       "      <th></th>\n",
       "      <th>Player</th>\n",
       "      <th>year</th>\n",
       "      <th>Runs</th>\n",
       "    </tr>\n",
       "  </thead>\n",
       "  <tbody>\n",
       "    <tr>\n",
       "      <th>55</th>\n",
       "      <td>G Gambhir</td>\n",
       "      <td>2017</td>\n",
       "      <td>498</td>\n",
       "    </tr>\n",
       "    <tr>\n",
       "      <th>92</th>\n",
       "      <td>MK Pandey</td>\n",
       "      <td>2017</td>\n",
       "      <td>396</td>\n",
       "    </tr>\n",
       "    <tr>\n",
       "      <th>132</th>\n",
       "      <td>RV Uthappa</td>\n",
       "      <td>2017</td>\n",
       "      <td>388</td>\n",
       "    </tr>\n",
       "    <tr>\n",
       "      <th>34</th>\n",
       "      <td>CA Lynn</td>\n",
       "      <td>2017</td>\n",
       "      <td>295</td>\n",
       "    </tr>\n",
       "    <tr>\n",
       "      <th>151</th>\n",
       "      <td>SP Narine</td>\n",
       "      <td>2017</td>\n",
       "      <td>224</td>\n",
       "    </tr>\n",
       "  </tbody>\n",
       "</table>\n",
       "</div>"
      ],
      "text/plain": [
       "         Player  year  Runs\n",
       "55    G Gambhir  2017   498\n",
       "92    MK Pandey  2017   396\n",
       "132  RV Uthappa  2017   388\n",
       "34      CA Lynn  2017   295\n",
       "151   SP Narine  2017   224"
      ]
     },
     "execution_count": 19,
     "metadata": {},
     "output_type": "execute_result"
    }
   ],
   "source": [
    "runs_by_player_seasons.sort_values(by = ['year','Runs'], ascending=[False,False])[runs_by_player_seasons.year=='2017'].head(5)"
   ]
  },
  {
   "cell_type": "markdown",
   "metadata": {},
   "source": [
    "# No of seasons played by players  - Top 10"
   ]
  },
  {
   "cell_type": "code",
   "execution_count": 20,
   "metadata": {},
   "outputs": [
    {
     "data": {
      "text/plain": [
       "YK Pathan           7\n",
       "G Gambhir           7\n",
       "LR Shukla           6\n",
       "Shakib Al Hasan     6\n",
       "SP Narine           6\n",
       "BB McCullum         5\n",
       "Iqbal Abdulla       5\n",
       "RN ten Doeschate    5\n",
       "RV Uthappa          4\n",
       "MK Tiwary           4\n",
       "Name: Player, dtype: int64"
      ]
     },
     "execution_count": 20,
     "metadata": {},
     "output_type": "execute_result"
    }
   ],
   "source": [
    "runs_by_player_seasons.Player.value_counts().head(10)"
   ]
  },
  {
   "cell_type": "markdown",
   "metadata": {},
   "source": [
    "# Maximum run scored in a season "
   ]
  },
  {
   "cell_type": "code",
   "execution_count": 21,
   "metadata": {},
   "outputs": [
    {
     "data": {
      "text/html": [
       "<div>\n",
       "<style>\n",
       "    .dataframe thead tr:only-child th {\n",
       "        text-align: right;\n",
       "    }\n",
       "\n",
       "    .dataframe thead th {\n",
       "        text-align: left;\n",
       "    }\n",
       "\n",
       "    .dataframe tbody tr th {\n",
       "        vertical-align: top;\n",
       "    }\n",
       "</style>\n",
       "<table border=\"1\" class=\"dataframe\">\n",
       "  <thead>\n",
       "    <tr style=\"text-align: right;\">\n",
       "      <th></th>\n",
       "      <th>Player</th>\n",
       "      <th>year</th>\n",
       "      <th>Runs</th>\n",
       "    </tr>\n",
       "  </thead>\n",
       "  <tbody>\n",
       "    <tr>\n",
       "      <th>129</th>\n",
       "      <td>RV Uthappa</td>\n",
       "      <td>2014</td>\n",
       "      <td>660</td>\n",
       "    </tr>\n",
       "  </tbody>\n",
       "</table>\n",
       "</div>"
      ],
      "text/plain": [
       "         Player  year  Runs\n",
       "129  RV Uthappa  2014   660"
      ]
     },
     "execution_count": 21,
     "metadata": {},
     "output_type": "execute_result"
    }
   ],
   "source": [
    "runs_by_player_seasons[runs_by_player_seasons.Runs==max(runs_by_player_seasons['Runs'])]"
   ]
  },
  {
   "cell_type": "markdown",
   "metadata": {},
   "source": [
    "# Gautam Gambhir Performence by Year"
   ]
  },
  {
   "cell_type": "code",
   "execution_count": 22,
   "metadata": {},
   "outputs": [
    {
     "data": {
      "image/png": "[encoded data removed]",
      "text/plain": [
       "<matplotlib.figure.Figure at 0xa1fcb50>"
      ]
     },
     "metadata": {},
     "output_type": "display_data"
    }
   ],
   "source": [
    "runs = runs_by_player_seasons[runs_by_player_seasons['Player'] == 'G Gambhir']['Runs']\n",
    "year = runs_by_player_seasons[runs_by_player_seasons['Player'] == 'G Gambhir']['year']\n",
    "y_pos = np.arange(len(year))\n",
    "plt.bar(y_pos,runs)\n",
    "plt.xticks(y_pos,year) \n",
    "plt.ylabel('Year')\n",
    "plt.xlabel('Runs')\n",
    "plt.title('Gautam Gambhir Performence by Year')\n",
    "plt.show()"
   ]
  },
  {
   "cell_type": "markdown",
   "metadata": {},
   "source": [
    "# KKR Battting performence Comparison by Seaons"
   ]
  },
  {
   "cell_type": "code",
   "execution_count": 23,
   "metadata": {},
   "outputs": [
    {
     "data": {
      "image/png": "[encoded data removed]",
      "text/plain": [
       "<matplotlib.figure.Figure at 0xa1fcad0>"
      ]
     },
     "metadata": {},
     "output_type": "display_data"
    }
   ],
   "source": [
    "kkr_runs_by_seasons = df_ms_runs.groupby('year', as_index=False).agg({\"Runs\": \"sum\"})\n",
    "seaons = kkr_runs_by_seasons['year']\n",
    "runs = kkr_runs_by_seasons['Runs']\n",
    "y_pos = np.arange(len(seaons))\n",
    "plt.bar(y_pos,runs)\n",
    "#plt.xticks(y_pos,year) \n",
    "plt.ylabel('Year')\n",
    "plt.xlabel('Seaons')\n",
    "plt.title('KKR Battting performence Comparison')\n",
    "plt.show()"
   ]
  },
  {
   "cell_type": "markdown",
   "metadata": {},
   "source": [
    "# Ganguly was dropped after having the best season"
   ]
  },
  {
   "cell_type": "code",
   "execution_count": 24,
   "metadata": {},
   "outputs": [
    {
     "data": {
      "image/png": "[encoded data removed]",
      "text/plain": [
       "<matplotlib.figure.Figure at 0xa34c370>"
      ]
     },
     "metadata": {},
     "output_type": "display_data"
    }
   ],
   "source": [
    "runs = runs_by_player_seasons[runs_by_player_seasons['Player'] == 'SC Ganguly']['Runs']\n",
    "year = runs_by_player_seasons[runs_by_player_seasons['Player'] == 'SC Ganguly']['year']\n",
    "y_pos = np.arange(len(year))\n",
    "plt.bar(y_pos,runs)\n",
    "plt.xticks(y_pos,year) \n",
    "plt.ylabel('Year')\n",
    "plt.xlabel('Runs')\n",
    "plt.title('Sourav Ganguly Performence by Year')\n",
    "plt.show()"
   ]
  },
  {
   "cell_type": "markdown",
   "metadata": {},
   "source": [
    "  # KKR - Batting Details Per Seaon"
   ]
  },
  {
   "cell_type": "code",
   "execution_count": 25,
   "metadata": {},
   "outputs": [
    {
     "data": {
      "text/html": [
       "<div>\n",
       "<style>\n",
       "    .dataframe thead tr:only-child th {\n",
       "        text-align: right;\n",
       "    }\n",
       "\n",
       "    .dataframe thead th {\n",
       "        text-align: left;\n",
       "    }\n",
       "\n",
       "    .dataframe tbody tr th {\n",
       "        vertical-align: top;\n",
       "    }\n",
       "</style>\n",
       "<table border=\"1\" class=\"dataframe\">\n",
       "  <thead>\n",
       "    <tr style=\"text-align: right;\">\n",
       "      <th></th>\n",
       "      <th>year</th>\n",
       "      <th>Runs</th>\n",
       "      <th>BF</th>\n",
       "      <th>100</th>\n",
       "      <th>50</th>\n",
       "      <th>4s</th>\n",
       "      <th>6s</th>\n",
       "      <th>Team_Strike_Rate</th>\n",
       "      <th>Standing</th>\n",
       "    </tr>\n",
       "  </thead>\n",
       "  <tbody>\n",
       "    <tr>\n",
       "      <th>0</th>\n",
       "      <td>2008</td>\n",
       "      <td>1801</td>\n",
       "      <td>1501</td>\n",
       "      <td>1</td>\n",
       "      <td>7</td>\n",
       "      <td>162</td>\n",
       "      <td>75</td>\n",
       "      <td>119.99</td>\n",
       "      <td>League stage</td>\n",
       "    </tr>\n",
       "    <tr>\n",
       "      <th>1</th>\n",
       "      <td>2009</td>\n",
       "      <td>1664</td>\n",
       "      <td>1474</td>\n",
       "      <td>0</td>\n",
       "      <td>6</td>\n",
       "      <td>140</td>\n",
       "      <td>56</td>\n",
       "      <td>112.89</td>\n",
       "      <td>League stage</td>\n",
       "    </tr>\n",
       "    <tr>\n",
       "      <th>2</th>\n",
       "      <td>2010</td>\n",
       "      <td>1978</td>\n",
       "      <td>1641</td>\n",
       "      <td>0</td>\n",
       "      <td>12</td>\n",
       "      <td>199</td>\n",
       "      <td>63</td>\n",
       "      <td>120.54</td>\n",
       "      <td>League stage</td>\n",
       "    </tr>\n",
       "    <tr>\n",
       "      <th>3</th>\n",
       "      <td>2011</td>\n",
       "      <td>1905</td>\n",
       "      <td>1623</td>\n",
       "      <td>0</td>\n",
       "      <td>9</td>\n",
       "      <td>191</td>\n",
       "      <td>45</td>\n",
       "      <td>117.38</td>\n",
       "      <td>Playoffs</td>\n",
       "    </tr>\n",
       "    <tr>\n",
       "      <th>4</th>\n",
       "      <td>2012</td>\n",
       "      <td>2356</td>\n",
       "      <td>1956</td>\n",
       "      <td>0</td>\n",
       "      <td>11</td>\n",
       "      <td>210</td>\n",
       "      <td>69</td>\n",
       "      <td>120.45</td>\n",
       "      <td>Champions</td>\n",
       "    </tr>\n",
       "    <tr>\n",
       "      <th>5</th>\n",
       "      <td>2013</td>\n",
       "      <td>2134</td>\n",
       "      <td>1870</td>\n",
       "      <td>0</td>\n",
       "      <td>8</td>\n",
       "      <td>222</td>\n",
       "      <td>56</td>\n",
       "      <td>114.12</td>\n",
       "      <td>League stage</td>\n",
       "    </tr>\n",
       "    <tr>\n",
       "      <th>6</th>\n",
       "      <td>2014</td>\n",
       "      <td>2372</td>\n",
       "      <td>1820</td>\n",
       "      <td>0</td>\n",
       "      <td>13</td>\n",
       "      <td>223</td>\n",
       "      <td>76</td>\n",
       "      <td>130.33</td>\n",
       "      <td>Champions</td>\n",
       "    </tr>\n",
       "    <tr>\n",
       "      <th>7</th>\n",
       "      <td>2015</td>\n",
       "      <td>1939</td>\n",
       "      <td>1419</td>\n",
       "      <td>0</td>\n",
       "      <td>8</td>\n",
       "      <td>206</td>\n",
       "      <td>64</td>\n",
       "      <td>136.65</td>\n",
       "      <td>League stage</td>\n",
       "    </tr>\n",
       "    <tr>\n",
       "      <th>8</th>\n",
       "      <td>2016</td>\n",
       "      <td>2133</td>\n",
       "      <td>1634</td>\n",
       "      <td>0</td>\n",
       "      <td>15</td>\n",
       "      <td>194</td>\n",
       "      <td>65</td>\n",
       "      <td>130.54</td>\n",
       "      <td>Playoffs</td>\n",
       "    </tr>\n",
       "    <tr>\n",
       "      <th>9</th>\n",
       "      <td>2017</td>\n",
       "      <td>2354</td>\n",
       "      <td>1711</td>\n",
       "      <td>0</td>\n",
       "      <td>16</td>\n",
       "      <td>228</td>\n",
       "      <td>87</td>\n",
       "      <td>137.58</td>\n",
       "      <td>Semi-finalists</td>\n",
       "    </tr>\n",
       "  </tbody>\n",
       "</table>\n",
       "</div>"
      ],
      "text/plain": [
       "   year  Runs    BF  100  50   4s  6s  Team_Strike_Rate        Standing\n",
       "0  2008  1801  1501    1   7  162  75            119.99    League stage\n",
       "1  2009  1664  1474    0   6  140  56            112.89    League stage\n",
       "2  2010  1978  1641    0  12  199  63            120.54    League stage\n",
       "3  2011  1905  1623    0   9  191  45            117.38        Playoffs\n",
       "4  2012  2356  1956    0  11  210  69            120.45       Champions\n",
       "5  2013  2134  1870    0   8  222  56            114.12    League stage\n",
       "6  2014  2372  1820    0  13  223  76            130.33       Champions\n",
       "7  2015  1939  1419    0   8  206  64            136.65    League stage\n",
       "8  2016  2133  1634    0  15  194  65            130.54        Playoffs\n",
       "9  2017  2354  1711    0  16  228  87            137.58  Semi-finalists"
      ]
     },
     "execution_count": 25,
     "metadata": {},
     "output_type": "execute_result"
    }
   ],
   "source": [
    "batting_by_seaons = df_ms_runs.groupby('year', as_index=False).agg({\"Runs\": \"sum\",\"BF\": \"sum\",\"100\":\"sum\",\"50\":\"sum\",\"4s\": \"sum\",\"6s\": \"sum\"})\n",
    "batting_by_seaons['Team_Strike_Rate'] = round(((batting_by_seaons['Runs']/batting_by_seaons['BF'])*100),2)\n",
    "batting_by_seaons['Standing']=['League stage','League stage','League stage','Playoffs','Champions','League stage','Champions','League stage','Playoffs','Semi-finalists']\n",
    "batting_by_seaons"
   ]
  },
  {
   "cell_type": "markdown",
   "metadata": {},
   "source": [
    "# Stats When KKR is Champions "
   ]
  },
  {
   "cell_type": "code",
   "execution_count": 26,
   "metadata": {},
   "outputs": [
    {
     "data": {
      "text/html": [
       "<div>\n",
       "<style>\n",
       "    .dataframe thead tr:only-child th {\n",
       "        text-align: right;\n",
       "    }\n",
       "\n",
       "    .dataframe thead th {\n",
       "        text-align: left;\n",
       "    }\n",
       "\n",
       "    .dataframe tbody tr th {\n",
       "        vertical-align: top;\n",
       "    }\n",
       "</style>\n",
       "<table border=\"1\" class=\"dataframe\">\n",
       "  <thead>\n",
       "    <tr style=\"text-align: right;\">\n",
       "      <th></th>\n",
       "      <th>year</th>\n",
       "      <th>Runs</th>\n",
       "      <th>BF</th>\n",
       "      <th>100</th>\n",
       "      <th>50</th>\n",
       "      <th>4s</th>\n",
       "      <th>6s</th>\n",
       "      <th>Team_Strike_Rate</th>\n",
       "      <th>Standing</th>\n",
       "    </tr>\n",
       "  </thead>\n",
       "  <tbody>\n",
       "    <tr>\n",
       "      <th>4</th>\n",
       "      <td>2012</td>\n",
       "      <td>2356</td>\n",
       "      <td>1956</td>\n",
       "      <td>0</td>\n",
       "      <td>11</td>\n",
       "      <td>210</td>\n",
       "      <td>69</td>\n",
       "      <td>120.45</td>\n",
       "      <td>Champions</td>\n",
       "    </tr>\n",
       "    <tr>\n",
       "      <th>6</th>\n",
       "      <td>2014</td>\n",
       "      <td>2372</td>\n",
       "      <td>1820</td>\n",
       "      <td>0</td>\n",
       "      <td>13</td>\n",
       "      <td>223</td>\n",
       "      <td>76</td>\n",
       "      <td>130.33</td>\n",
       "      <td>Champions</td>\n",
       "    </tr>\n",
       "  </tbody>\n",
       "</table>\n",
       "</div>"
      ],
      "text/plain": [
       "   year  Runs    BF  100  50   4s  6s  Team_Strike_Rate   Standing\n",
       "4  2012  2356  1956    0  11  210  69            120.45  Champions\n",
       "6  2014  2372  1820    0  13  223  76            130.33  Champions"
      ]
     },
     "execution_count": 26,
     "metadata": {},
     "output_type": "execute_result"
    }
   ],
   "source": [
    "batting_by_seaons[batting_by_seaons['Standing']=='Champions']"
   ]
  }
 ],
 "metadata": {
  "kernelspec": {
   "display_name": "Python 3",
   "language": "python",
   "name": "python3"
  },
  "language_info": {
   "codemirror_mode": {
    "name": "ipython",
    "version": 3
   },
   "file_extension": ".py",
   "mimetype": "text/x-python",
   "name": "python",
   "nbconvert_exporter": "python",
   "pygments_lexer": "ipython3",
   "version": "3.6.1"
  }
 },
 "nbformat": 4,
 "nbformat_minor": 2
}
